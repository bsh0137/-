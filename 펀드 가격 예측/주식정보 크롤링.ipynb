{
 "cells": [
  {
   "cell_type": "code",
   "execution_count": 1,
   "metadata": {},
   "outputs": [],
   "source": [
    "import sys\n",
    "try:\n",
    "  import requests\n",
    "  from bs4 import BeautifulSoup\n",
    "except ImportError:\n",
    "  print(\"Please install requests, BeautifulSoup.\")"
   ]
  },
  {
   "cell_type": "code",
   "execution_count": 2,
   "metadata": {},
   "outputs": [],
   "source": [
    "def usage():\n",
    "    print(\"Usage: %s code\" % sys.argv[0]) \n",
    "    exit(255)\n",
    "\n",
    "if len(sys.argv) == 1:\n",
    "    usage()\n",
    "\n",
    "code = sys.argv[1]"
   ]
  },
  {
   "cell_type": "code",
   "execution_count": 3,
   "metadata": {},
   "outputs": [],
   "source": [
    "url = \"http://finance.naver.com/item/main.nhn?code=\" + \"005930\"\n",
    "s = requests.get(url)\n",
    "plain_text = s.text\n"
   ]
  },
  {
   "cell_type": "code",
   "execution_count": 4,
   "metadata": {},
   "outputs": [],
   "source": [
    "soup = BeautifulSoup(plain_text, \"lxml\")\n",
    "ranks = soup.find(\"dl\", {\"class\": \"blind\"})"
   ]
  },
  {
   "cell_type": "code",
   "execution_count": 5,
   "metadata": {},
   "outputs": [],
   "source": [
    "if ranks == None:\n",
    "    print(\"Unknown code(%s)\" % code)\n",
    "    exit(255)"
   ]
  },
  {
   "cell_type": "code",
   "execution_count": 6,
   "metadata": {},
   "outputs": [
    {
     "name": "stdout",
     "output_type": "stream",
     "text": [
      "\n",
      "종목 시세 정보\n",
      "2020년 02월 21일 15시 39분 기준 장마감\n",
      "종목명 삼성전자\n",
      "종목코드 005930 코스피\n",
      "현재가 59,200 전일대비 하락 800 마이너스 1.33 퍼센트\n",
      "전일가 60,000\n",
      "시가 58,800\n",
      "고가 59,800\n",
      "상한가 78,000\n",
      "저가 58,500\n",
      "하한가 42,000\n",
      "거래량 13,252,415\n",
      "거래대금 786,269백만\n",
      "\n"
     ]
    }
   ],
   "source": [
    "print(ranks.get_text())\n"
   ]
  },
  {
   "cell_type": "code",
   "execution_count": 12,
   "metadata": {},
   "outputs": [
    {
     "data": {
      "text/plain": [
       "'월'"
      ]
     },
     "execution_count": 12,
     "metadata": {},
     "output_type": "execute_result"
    }
   ],
   "source": [
    "ranks.get_text()[18]"
   ]
  },
  {
   "cell_type": "code",
   "execution_count": null,
   "metadata": {},
   "outputs": [],
   "source": []
  }
 ],
 "metadata": {
  "kernelspec": {
   "display_name": "Python 3",
   "language": "python",
   "name": "python3"
  },
  "language_info": {
   "codemirror_mode": {
    "name": "ipython",
    "version": 3
   },
   "file_extension": ".py",
   "mimetype": "text/x-python",
   "name": "python",
   "nbconvert_exporter": "python",
   "pygments_lexer": "ipython3",
   "version": "3.7.6"
  }
 },
 "nbformat": 4,
 "nbformat_minor": 4
}
